{
 "cells": [
  {
   "cell_type": "code",
   "execution_count": 9,
   "metadata": {},
   "outputs": [
    {
     "name": "stdout",
     "output_type": "stream",
     "text": [
      "Yes\n",
      "String1: toy\n",
      "String2: dada\n",
      "Yes\n",
      "String1: Rer\n",
      "String2: fegfee\n"
     ]
    }
   ],
   "source": [
    "def func(s1, s2):\n",
    "    def get(s1, s2):\n",
    "        common = []\n",
    "        uncommon = []\n",
    "\n",
    "        i, j = 0, 0\n",
    "        while i < len(s1) and j < len(s2):\n",
    "            if s1[i] == s2[j]:\n",
    "                common.append(s1[i])\n",
    "                i += 1\n",
    "                j += 1\n",
    "            elif s1[i] < s2[j]:\n",
    "                uncommon.append(s1[i])\n",
    "                i += 1\n",
    "            else:\n",
    "                uncommon.append(s2[j])\n",
    "                j += 1\n",
    "\n",
    "        while i < len(s1):\n",
    "            uncommon.append(s1[i])\n",
    "            i += 1\n",
    "        while j < len(s2):\n",
    "            uncommon.append(s2[j])\n",
    "            j += 1\n",
    "\n",
    "        return ''.join(common), ''.join(uncommon)\n",
    "\n",
    "    common, uncommon = get(s1, s2)\n",
    "\n",
    "    if common:\n",
    "        print(\"Yes\")\n",
    "        print(\"String1:\", common)\n",
    "        print(\"String2:\", uncommon)\n",
    "    else:\n",
    "        print(\"No\")\n",
    "\n",
    "func(\"today\", \"tdoay\")  \n",
    "func(\"Refer\", \"Regfree\") \n"
   ]
  },
  {
   "cell_type": "code",
   "execution_count": null,
   "metadata": {},
   "outputs": [],
   "source": []
  },
  {
   "cell_type": "code",
   "execution_count": null,
   "metadata": {},
   "outputs": [],
   "source": []
  }
 ],
 "metadata": {
  "kernelspec": {
   "display_name": "Python 3",
   "language": "python",
   "name": "python3"
  },
  "language_info": {
   "codemirror_mode": {
    "name": "ipython",
    "version": 3
   },
   "file_extension": ".py",
   "mimetype": "text/x-python",
   "name": "python",
   "nbconvert_exporter": "python",
   "pygments_lexer": "ipython3",
   "version": "3.7.3"
  }
 },
 "nbformat": 4,
 "nbformat_minor": 2
}
