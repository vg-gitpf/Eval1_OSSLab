{
 "cells": [
  {
   "cell_type": "code",
   "execution_count": 39,
   "metadata": {},
   "outputs": [
    {
     "ename": "SyntaxError",
     "evalue": "invalid syntax (<ipython-input-39-92b8896aafe0>, line 12)",
     "output_type": "error",
     "traceback": [
      "\u001b[1;36m  File \u001b[1;32m\"<ipython-input-39-92b8896aafe0>\"\u001b[1;36m, line \u001b[1;32m12\u001b[0m\n\u001b[1;33m    for j in range (0:len(word):-1):\u001b[0m\n\u001b[1;37m                     ^\u001b[0m\n\u001b[1;31mSyntaxError\u001b[0m\u001b[1;31m:\u001b[0m invalid syntax\n"
     ]
    }
   ],
   "source": [
    "def charreverse(s):\n",
    "    word = \"\"\n",
    "    stri = \"\"\n",
    "    rev_stri =\"\"\n",
    "    while i < len(s):\n",
    "        if(s[i] == \" \"):\n",
    "            i += 1\n",
    "        else:\n",
    "            word.append(s[i])\n",
    "            i += 1\n",
    "        \n",
    "        for j in range (0:len(word):-1):\n",
    "            stri.append(word[j])\n",
    "        rev_stri = ' '.join(stri)\n",
    "    return rev_stri\n",
    "        \n",
    "\n",
    "i = \"hi thIS iS ViNaayAK\"\n",
    "print(charreverse(i))"
   ]
  },
  {
   "cell_type": "code",
   "execution_count": null,
   "metadata": {},
   "outputs": [],
   "source": []
  },
  {
   "cell_type": "code",
   "execution_count": null,
   "metadata": {},
   "outputs": [],
   "source": []
  }
 ],
 "metadata": {
  "kernelspec": {
   "display_name": "Python 3",
   "language": "python",
   "name": "python3"
  },
  "language_info": {
   "codemirror_mode": {
    "name": "ipython",
    "version": 3
   },
   "file_extension": ".py",
   "mimetype": "text/x-python",
   "name": "python",
   "nbconvert_exporter": "python",
   "pygments_lexer": "ipython3",
   "version": "3.7.3"
  }
 },
 "nbformat": 4,
 "nbformat_minor": 2
}
